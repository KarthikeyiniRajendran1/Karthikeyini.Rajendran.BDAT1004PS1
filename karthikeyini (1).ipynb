{
 "cells": [
  {
   "cell_type": "code",
   "execution_count": null,
   "id": "d3914a46",
   "metadata": {},
   "outputs": [],
   "source": [
    "#question 1\n",
    "What data type is each of the following?"
   ]
  },
  {
   "cell_type": "code",
   "execution_count": null,
   "id": "481cf124",
   "metadata": {},
   "outputs": [],
   "source": [
    "Data Type of (5) is 'int'\n",
    "Data Type of (5.0) is 'double'\n",
    "Data Type of (5 > 1) is  'bool'\n",
    "Data Type of ('5') is 'char'\n",
    "Data Type of (5 * 2) is 'int'\n",
    "Data Type of ('5' * 2) is not valid in C# \"this will throw compilation error\"\n",
    "Data Type of ('5' + '2') is 'char'\n",
    "Data Type of (5 / 2) is 'int'\n",
    "Data Type of (5 % 2) is 'int'\n",
    "Data Type of (5 == 3) is 'bool'\n",
    "Data Type of pi is 'double'"
   ]
  },
  {
   "cell_type": "code",
   "execution_count": null,
   "id": "acc03113",
   "metadata": {},
   "outputs": [],
   "source": [
    "#Question 2 a\n",
    "Write (and evaluate) C# expressions that answer these questions:\n",
    "a. How many letters are there in 'Supercalifragilisticexpialidocious'?"
   ]
  },
  {
   "cell_type": "code",
   "execution_count": null,
   "id": "8f80c9a3",
   "metadata": {},
   "outputs": [],
   "source": [
    "using System;\n",
    "\n",
    "namespace QuestionTwo\n",
    "{\n",
    "  class Program\n",
    "  {\n",
    "    static void Main(string[] args)\n",
    "    {\n",
    "      string message = \"Supercalifragilisticexpialidocious\";\n",
    "      Console.WriteLine(message.Length);  \n",
    "     }\n",
    "  }\n",
    "}\n"
   ]
  },
  {
   "cell_type": "code",
   "execution_count": null,
   "id": "41de8fcc",
   "metadata": {},
   "outputs": [],
   "source": [
    "#Question 2 b\n",
    "b. Does 'Supercalifragilisticexpialidocious' contain 'ice' as a substring?"
   ]
  },
  {
   "cell_type": "code",
   "execution_count": null,
   "id": "2d6c4966",
   "metadata": {},
   "outputs": [],
   "source": [
    "using System;  \n",
    "namespace QuestionIce {  \n",
    "  class Test {\n",
    "    public static void Main(string [] args) {\n",
    "   \n",
    "      string str = \"Supercalifragilisticexpialidocious;  \n",
    "\n",
    "      // check if str contains \"ice\"\n",
    "      bool check = str.Contains(\"ice\");\n",
    "\n",
    "      Console.WriteLine(check);   \n",
    "\n",
    "      Console.ReadLine();    \n",
    "    }\n",
    "  }\n",
    "}\n"
   ]
  },
  {
   "cell_type": "code",
   "execution_count": null,
   "id": "bdae1b11",
   "metadata": {},
   "outputs": [],
   "source": [
    "#Question 2 D\n",
    "d. Which composer comes first in the dictionary: 'Berlioz', 'Borodin', 'Brian', 'Bartok', 'Bellini', 'Buxtehude', 'Bernstein'. Which one comes last?"
   ]
  },
  {
   "cell_type": "code",
   "execution_count": null,
   "id": "8373c7d2",
   "metadata": {},
   "outputs": [],
   "source": [
    "using System;\n",
    "\n",
    "class Program\n",
    "  {\n",
    "    static void Main(string[] args)\n",
    "    {\n",
    "    String[] composerslist = { \"Berlioz\", \"Borodin\", \"Brian\", \"Bartok\", \"Bellini\", \"Buxtehude\", \"Bernstein\" };\n",
    "Array.Sort(composerslist);\n",
    "String firstComposer = composerslist[0];\n",
    "String lastComposer = composerslist[composerslist.Length-1];\n",
    "Console.WriteLine(\"First composer: \" + firstComposer);\n",
    "Console.WriteLine(\"Last composer: \" + lastComposer);\n",
    "}\n",
    "}\n"
   ]
  },
  {
   "cell_type": "code",
   "execution_count": null,
   "id": "1e77b6f1",
   "metadata": {},
   "outputs": [],
   "source": [
    "#Question 3\n",
    "Implement function triangleArea(a,b,c) that takes as input the lengths of the 3 sides of a triangle and returns the area of the triangle. By Heron's formula, the area of a triangle with side lengths a, b, and c is s(s − a)(s − b)(s − c), where\n",
    "s = (a + b + c)/2.\n",
    ">>> triangleArea(2,2,2) 1.7320508075688772"
   ]
  },
  {
   "cell_type": "code",
   "execution_count": null,
   "id": "a4ac3a63",
   "metadata": {},
   "outputs": [],
   "source": [
    "Using System;\n",
    "Public class Triangle\n",
    "{\n",
    "    Public static double TriangleArea(double side1, double side2, double side3)\n",
    "    {\n",
    "        Double allsides = (side1 + side2 + side3) / 2;\n",
    "        Double area = Math.Sqrt(allsides * (allsides – side1) * (allsides – side2) * (allsides – side3));\n",
    "        Return area;\n",
    "    }\n",
    "    Public static void Main(string[] args)\n",
    "    {\n",
    "        Double area = TriangleArea(2, 2, 2);\n",
    "Console.WriteLine(area);\n",
    "    }\n",
    "}\n",
    "\n",
    "\n"
   ]
  },
  {
   "cell_type": "code",
   "execution_count": null,
   "id": "a4144a48",
   "metadata": {},
   "outputs": [],
   "source": [
    "#question 4\n",
    "Write a program in C# Sharp to separate odd and even integers in separate arrays. Go to the editor\n",
    "Test Data :\n",
    "Input the number of elements to be stored in the array :5 Input 5 elements in the array :\n",
    "element - 0 : 25\n",
    "element - 1 : 47\n",
    "element - 2 : 42\n",
    "element - 3 : 56\n",
    "element - 4 : 32 Expected Output:\n",
    "The Even elements are: 42 56 32\n",
    "The Odd elements are : 25 47"
   ]
  },
  {
   "cell_type": "code",
   "execution_count": null,
   "id": "b4e52aaf",
   "metadata": {},
   "outputs": [],
   "source": [
    "Using System;\n",
    "Class Program\n",
    "{\n",
    "    Static void Main()\n",
    "    {\n",
    "Console.Write(“Input the number of elements to be stored in the array: “);\n",
    "IntnumElements = Convert.ToInt32(Console.ReadLine());\n",
    "Int[] inputArray = new int[numElements];\n",
    "Console.WriteLine($”Input {numElements} elements in the array:”);\n",
    "        For (int I = 0; I <numElements; i++)\n",
    "        {\n",
    "Console.Write($”element – {i} : “);\n",
    "inputArray[i] = Convert.ToInt32(Console.ReadLine());\n",
    "        }\n",
    "Int[] evenArray = new int[numElements];\n",
    "Int[] oddArray = new int[numElements];\n",
    "IntevenCount = 0, oddCount = 0;\n",
    "Foreach (int number in inputArray)\n",
    "        {\n",
    "            If (number % 2 == 0)\n",
    "evenArray[evenCount++] = number;\n",
    "            else\n",
    "oddArray[oddCount++] = number;\n",
    "        }\n",
    "Console.WriteLine(“The Even elements are:”);\n",
    "        For (int I = 0; I <evenCount; i++)\n",
    "        {\n",
    "Console.Write(evenArray[i] + “ “);\n",
    "        }\n",
    "Console.WriteLine();\n",
    "Console.WriteLine(“The Odd elements are:”);\n",
    "        For (int I = 0; I <oddCount; i++)\n",
    "        {\n",
    "Console.Write(oddArray[i] + “ “);\n",
    "        }\n",
    "Console.WriteLine();\n",
    "    }\n"
   ]
  },
  {
   "cell_type": "code",
   "execution_count": null,
   "id": "145628eb",
   "metadata": {},
   "outputs": [],
   "source": [
    "#queation 5 a\n",
    "Write a function inside(x,y,x1,y1,x2,y2) that returns True or False depending on whether the point (x,y) lies in the rectangle with lower left corner (x1,y1) and upper right corner (x2,y2).\n",
    ">>> inside(1,1,0,0,2,3)\n",
    "True\n",
    ">>> inside(-1,-1,0,0,2,3)\n",
    "False"
   ]
  },
  {
   "cell_type": "code",
   "execution_count": null,
   "id": "6533b405",
   "metadata": {},
   "outputs": [],
   "source": [
    "Def inside(a, b, a1, b1, a2, b2):\n",
    "    If a >= a1 and a <= a2 and b >= b1 and b <= b2:\n",
    "        Return True\n",
    "    Else:\n",
    "        Return False\n"
   ]
  },
  {
   "cell_type": "code",
   "execution_count": null,
   "id": "a9f1cf36",
   "metadata": {},
   "outputs": [],
   "source": [
    "#Question 5 b\n",
    "Use function inside() from part a. to write an expression that tests whether the point (1,1) lies in both of the following rectangles: one with lower left corner (0.3, 0.5) and upper right corner (1.1, 0.7) and the other with lower left corner (0.5, 0.2) and upper right corner (1.1, 2)."
   ]
  },
  {
   "cell_type": "code",
   "execution_count": null,
   "id": "65a3d764",
   "metadata": {},
   "outputs": [],
   "source": [
    "Rect1_result = inside(1, 1, 0.3, 0.5, 1.1, 0.7)\n",
    "Rect2_result = inside(1, 1, 0.5, 0.2, 1.1, 2)\n",
    "If rect1_result and rect2_result:\n",
    "    Print(“The point (1, 1) lies in both rectangles.”)\n",
    "Else:\n",
    "    Print(“The point (1, 1) does not lie in both rectangles.”)\n"
   ]
  },
  {
   "cell_type": "code",
   "execution_count": null,
   "id": "620a30d9",
   "metadata": {},
   "outputs": [],
   "source": [
    "# QUESTION 6\n",
    "You can turn a word into pig-Latin using the following two rules (simplified):\n",
    "• If the word starts with a consonant, move that letter to the end and append 'ay'. For example, 'happy' becomes 'appyhay' and 'pencil' becomes 'encilpay'.\n",
    "• If the word starts with a vowel, simply append 'way' to the end of the word. For example, 'enter' becomes 'enterway' and 'other' becomes 'otherway' . For our purposes, there are 5 vowels: a, e, i, o, u (so we count y as a consonant).\n",
    "Write a function pig() that takes a word (i.e., a string) as input and returns its pig- Latin form. Your function should still work if the input word contains upper case characters. Your output should always be lower case however.\n",
    ">>> pig('happy') 'appyhay'\n",
    ">>> pig('Enter') 'enterway'"
   ]
  },
  {
   "cell_type": "code",
   "execution_count": 6,
   "id": "1e413941",
   "metadata": {},
   "outputs": [
    {
     "name": "stdout",
     "output_type": "stream",
     "text": [
      "appyhay\n",
      "enterway\n",
      "encilpay\n",
      "otherway\n"
     ]
    }
   ],
   "source": [
    "def pig(string):\n",
    "    word = string.lower()        #converting the word to lowercase\n",
    "    temp = word[0]               #storing the first letter in a variable temp\n",
    "    if(temp in 'aeiou'):         #checking first letter starts with vowels\n",
    "        return (word + 'way')    #appending 'way' if it starts with a vowel\n",
    "    else:\n",
    "        return(word[1:]+temp+'ay') #if not then returns starting from second letter till last appending first letter and 'ay'\n",
    "print(pig('happy'))\n",
    "print(pig('Enter'))\n",
    "print(pig('pencil'))\n",
    "print(pig('other'))\n"
   ]
  },
  {
   "cell_type": "code",
   "execution_count": null,
   "id": "c5f456a7",
   "metadata": {},
   "outputs": [],
   "source": [
    "#QUESTION 7\n",
    "File bloodtype1.txt records blood-types of patients (A, B, AB, O or OO) at a clinic. \n",
    "Write a function bldcount() that reads the file with name name and reports (i.e., prints) how many patients there are in each bloodtype.\n",
    ">>> bldcount('bloodtype.txt')\n",
    "There are 10 patients of blood type A. There is one patient of blood type B. There are 10 patients of blood type AB. \n",
    "There are 12 patients of blood type O. There are no patients of blood type OO."
   ]
  },
  {
   "cell_type": "code",
   "execution_count": 28,
   "id": "bfbc3773",
   "metadata": {},
   "outputs": [
    {
     "name": "stdout",
     "output_type": "stream",
     "text": [
      "There are 15 patients of bloodtype A\n",
      "There are 1 patients of bloodtype B\n",
      "There are 13 patients of bloodtype AB\n",
      "There are 15 patients of bloodtype O\n",
      "There are 0 patients of bloodtype OO\n"
     ]
    }
   ],
   "source": [
    "def bldcount(s):\n",
    "    file = open(s)\n",
    "    data = file.read()\n",
    "    bloodtypes = data.strip().split(' ')\n",
    "    valid_bloodtypes = ['A','B','AB','O','OO']\n",
    "    counts = [0,0,0,0,0]\n",
    "    for bloodtype in bloodtypes:\n",
    "        if bloodtype in valid_bloodtypes:\n",
    "            idx = valid_bloodtypes.index(bloodtype)\n",
    "            counts[idx]+= 1\n",
    "    for i, bloodtype in enumerate(valid_bloodtypes):\n",
    "        print('There are', counts[i], \"patients of bloodtype\",bloodtype)\n",
    "bldcount('bloodtype1.txt')\n",
    "            \n",
    "    "
   ]
  },
  {
   "cell_type": "code",
   "execution_count": null,
   "id": "7c7fe8ec",
   "metadata": {},
   "outputs": [],
   "source": [
    "#Question 8\n",
    "Write a function curconv() that takes as input:\n",
    "1. a currency represented using a string (e.g., 'JPY' for the Japanese Yen or 'EUR' for the Euro)\n",
    "2. an amount\n",
    "and then converts and returns the amount in US dollars.\n",
    ">>> curconv('EUR', 100)\n",
    "122.96544\n",
    ">>> curconv('JPY', 100)\n",
    "1.241401\n",
    "The currency rates you will need are stored in file currencies.txt:\n",
    "AUD\n",
    "1.0345157\n",
    "Australian Dollar\n",
    "CHF\n",
    "1.0237414\n",
    "Swiss Franc\n",
    "CNY\n",
    "0.1550176\n",
    "Chinese Yuan"
   ]
  },
  {
   "cell_type": "code",
   "execution_count": 29,
   "id": "38457fb0",
   "metadata": {},
   "outputs": [
    {
     "name": "stdout",
     "output_type": "stream",
     "text": [
      "Converted amount in USD: 122.96544\n",
      "Converted amount in USD: 1.241401\n"
     ]
    }
   ],
   "source": [
    "def curConv(Currency, value):\n",
    "    f = open(\"currencies.txt\")\n",
    "    lines = f.readlines()\n",
    "    for line in lines:\n",
    "        s = line.strip().split('\\t')\n",
    "        code = s[0]\n",
    "        convFactor = float(s[1])\n",
    "        name = s[2]\n",
    "        \n",
    "        if Currency == code:\n",
    "            return value * convFactor\n",
    "    \n",
    "print(\"Converted amount in USD:\", curConv('EUR', 100))\n",
    "print(\"Converted amount in USD:\", curConv('JPY', 100))"
   ]
  },
  {
   "cell_type": "code",
   "execution_count": null,
   "id": "d60ff347",
   "metadata": {},
   "outputs": [],
   "source": [
    "#Question 9\n",
    "Each of the following will cause an exception (an error). Identify what type of exception each will cause."
   ]
  },
  {
   "cell_type": "code",
   "execution_count": 30,
   "id": "a152f8f2",
   "metadata": {},
   "outputs": [
    {
     "ename": "SyntaxError",
     "evalue": "invalid character '‘' (U+2018) (1021792593.py, line 1)",
     "output_type": "error",
     "traceback": [
      "\u001b[1;36m  Cell \u001b[1;32mIn[30], line 1\u001b[1;36m\u001b[0m\n\u001b[1;33m    6 + ‘a’\u001b[0m\n\u001b[1;37m        ^\u001b[0m\n\u001b[1;31mSyntaxError\u001b[0m\u001b[1;31m:\u001b[0m invalid character '‘' (U+2018)\n"
     ]
    }
   ],
   "source": [
    "6 + ‘a’"
   ]
  },
  {
   "cell_type": "code",
   "execution_count": 31,
   "id": "aa3cca4a",
   "metadata": {},
   "outputs": [
    {
     "ename": "IndexError",
     "evalue": "list index out of range",
     "output_type": "error",
     "traceback": [
      "\u001b[1;31m---------------------------------------------------------------------------\u001b[0m",
      "\u001b[1;31mIndexError\u001b[0m                                Traceback (most recent call last)",
      "Cell \u001b[1;32mIn[31], line 2\u001b[0m\n\u001b[0;32m      1\u001b[0m a\u001b[38;5;241m=\u001b[39m[\u001b[38;5;241m1\u001b[39m,\u001b[38;5;241m2\u001b[39m,\u001b[38;5;241m3\u001b[39m,\u001b[38;5;241m4\u001b[39m,\u001b[38;5;241m5\u001b[39m,\u001b[38;5;241m6\u001b[39m,\u001b[38;5;241m7\u001b[39m,\u001b[38;5;241m8\u001b[39m,\u001b[38;5;241m9\u001b[39m,\u001b[38;5;241m10\u001b[39m,\u001b[38;5;241m11\u001b[39m]\n\u001b[1;32m----> 2\u001b[0m \u001b[38;5;28mprint\u001b[39m(\u001b[43ma\u001b[49m\u001b[43m[\u001b[49m\u001b[38;5;241;43m12\u001b[39;49m\u001b[43m]\u001b[49m)\n",
      "\u001b[1;31mIndexError\u001b[0m: list index out of range"
     ]
    }
   ],
   "source": [
    "a=[1,2,3,4,5,6,7,8,9,10,11]\n",
    "print(a[12])"
   ]
  },
  {
   "cell_type": "code",
   "execution_count": 32,
   "id": "d6da14b1",
   "metadata": {},
   "outputs": [
    {
     "ename": "ValueError",
     "evalue": "math domain error",
     "output_type": "error",
     "traceback": [
      "\u001b[1;31m---------------------------------------------------------------------------\u001b[0m",
      "\u001b[1;31mValueError\u001b[0m                                Traceback (most recent call last)",
      "Cell \u001b[1;32mIn[32], line 2\u001b[0m\n\u001b[0;32m      1\u001b[0m \u001b[38;5;28;01mimport\u001b[39;00m \u001b[38;5;21;01mmath\u001b[39;00m\n\u001b[1;32m----> 2\u001b[0m \u001b[43mmath\u001b[49m\u001b[38;5;241;43m.\u001b[39;49m\u001b[43msqrt\u001b[49m\u001b[43m(\u001b[49m\u001b[38;5;241;43m-\u001b[39;49m\u001b[38;5;241;43m1.0\u001b[39;49m\u001b[43m)\u001b[49m\n",
      "\u001b[1;31mValueError\u001b[0m: math domain error"
     ]
    }
   ],
   "source": [
    "import math\n",
    "math.sqrt(-1.0)"
   ]
  },
  {
   "cell_type": "code",
   "execution_count": 33,
   "id": "e68384be",
   "metadata": {},
   "outputs": [
    {
     "ename": "NameError",
     "evalue": "name 'x' is not defined",
     "output_type": "error",
     "traceback": [
      "\u001b[1;31m---------------------------------------------------------------------------\u001b[0m",
      "\u001b[1;31mNameError\u001b[0m                                 Traceback (most recent call last)",
      "Cell \u001b[1;32mIn[33], line 1\u001b[0m\n\u001b[1;32m----> 1\u001b[0m \u001b[38;5;28mprint\u001b[39m(\u001b[43mx\u001b[49m)\n",
      "\u001b[1;31mNameError\u001b[0m: name 'x' is not defined"
     ]
    }
   ],
   "source": [
    "print(x)"
   ]
  },
  {
   "cell_type": "code",
   "execution_count": 34,
   "id": "a3324e93",
   "metadata": {},
   "outputs": [
    {
     "ename": "FileNotFoundError",
     "evalue": "[Errno 2] No such file or directory: 'f.txt'",
     "output_type": "error",
     "traceback": [
      "\u001b[1;31m---------------------------------------------------------------------------\u001b[0m",
      "\u001b[1;31mFileNotFoundError\u001b[0m                         Traceback (most recent call last)",
      "Cell \u001b[1;32mIn[34], line 1\u001b[0m\n\u001b[1;32m----> 1\u001b[0m \u001b[38;5;28;43mopen\u001b[39;49m\u001b[43m(\u001b[49m\u001b[38;5;124;43m'\u001b[39;49m\u001b[38;5;124;43mf.txt\u001b[39;49m\u001b[38;5;124;43m'\u001b[39;49m\u001b[43m)\u001b[49m\n",
      "File \u001b[1;32m~\\anaconda3\\lib\\site-packages\\IPython\\core\\interactiveshell.py:282\u001b[0m, in \u001b[0;36m_modified_open\u001b[1;34m(file, *args, **kwargs)\u001b[0m\n\u001b[0;32m    275\u001b[0m \u001b[38;5;28;01mif\u001b[39;00m file \u001b[38;5;129;01min\u001b[39;00m {\u001b[38;5;241m0\u001b[39m, \u001b[38;5;241m1\u001b[39m, \u001b[38;5;241m2\u001b[39m}:\n\u001b[0;32m    276\u001b[0m     \u001b[38;5;28;01mraise\u001b[39;00m \u001b[38;5;167;01mValueError\u001b[39;00m(\n\u001b[0;32m    277\u001b[0m         \u001b[38;5;124mf\u001b[39m\u001b[38;5;124m\"\u001b[39m\u001b[38;5;124mIPython won\u001b[39m\u001b[38;5;124m'\u001b[39m\u001b[38;5;124mt let you open fd=\u001b[39m\u001b[38;5;132;01m{\u001b[39;00mfile\u001b[38;5;132;01m}\u001b[39;00m\u001b[38;5;124m by default \u001b[39m\u001b[38;5;124m\"\u001b[39m\n\u001b[0;32m    278\u001b[0m         \u001b[38;5;124m\"\u001b[39m\u001b[38;5;124mas it is likely to crash IPython. If you know what you are doing, \u001b[39m\u001b[38;5;124m\"\u001b[39m\n\u001b[0;32m    279\u001b[0m         \u001b[38;5;124m\"\u001b[39m\u001b[38;5;124myou can use builtins\u001b[39m\u001b[38;5;124m'\u001b[39m\u001b[38;5;124m open.\u001b[39m\u001b[38;5;124m\"\u001b[39m\n\u001b[0;32m    280\u001b[0m     )\n\u001b[1;32m--> 282\u001b[0m \u001b[38;5;28;01mreturn\u001b[39;00m io_open(file, \u001b[38;5;241m*\u001b[39margs, \u001b[38;5;241m*\u001b[39m\u001b[38;5;241m*\u001b[39mkwargs)\n",
      "\u001b[1;31mFileNotFoundError\u001b[0m: [Errno 2] No such file or directory: 'f.txt'"
     ]
    }
   ],
   "source": [
    "open('f.txt')"
   ]
  },
  {
   "cell_type": "code",
   "execution_count": null,
   "id": "3cba8218",
   "metadata": {},
   "outputs": [],
   "source": [
    "#Question 10\n",
    "Encryption is the process of hiding the meaning of a text by substituting letters in the message with other letters, according to some system. If the process is successful, no one but the intended recipient can understand the encrypted message. Cryptanalysis refers to attempts to undo the encryption, even if some details of the encryption are unknown (for example, if an encrypted message has been intercepted). The first step of cryptanalysis is often to build up a table of letter frequencies in the encrypted text. Assume that the string letters is already defined as 'abcdefghijklmnopqrstuvwxyz'. Write a function called frequencies() that takes a string as its only parameter, and returns a list of integers, showing the number of times each character appears in the text. Your function may ignore any characters that are not in letters.\n",
    ">>> frequencies('The quick red fox got bored and went home.') [1, 1, 1, 3, 5, 1, 1, 2, 1, 0, 1, 0, 1, 2, 4, 0, 1, 2, 0, 2,\n",
    "1, 0, 1, 1, 0, 0]\n",
    ">>> frequencies('apple')"
   ]
  },
  {
   "cell_type": "code",
   "execution_count": 37,
   "id": "993b0a17",
   "metadata": {},
   "outputs": [
    {
     "name": "stdout",
     "output_type": "stream",
     "text": [
      "[1, 1, 1, 3, 5, 1, 1, 2, 1, 0, 1, 0, 1, 2, 4, 0, 1, 2, 0, 2, 1, 0, 1, 1, 0, 0]\n",
      "[1, 0, 0, 0, 1, 0, 0, 0, 0, 0, 0, 1, 0, 0, 0, 2, 0, 0, 0, 0, 0, 0, 0, 0, 0, 0]\n"
     ]
    }
   ],
   "source": [
    "def frequencies(string):\n",
    "    letters= 'abcdefghijklmnopqrstuvwxyz'\n",
    "    Result=[0]*26\n",
    "    for x in string :\n",
    "        if x in letters:\n",
    "            Result[ord(x)-ord('a')]=Result[ord(x)-ord('a')]+1\n",
    "    return Result\n",
    "print(frequencies('The quick red fox got bored and went home.'))\n",
    "print(frequencies('apple'))\n",
    "            "
   ]
  }
 ],
 "metadata": {
  "kernelspec": {
   "display_name": "Python 3 (ipykernel)",
   "language": "python",
   "name": "python3"
  },
  "language_info": {
   "codemirror_mode": {
    "name": "ipython",
    "version": 3
   },
   "file_extension": ".py",
   "mimetype": "text/x-python",
   "name": "python",
   "nbconvert_exporter": "python",
   "pygments_lexer": "ipython3",
   "version": "3.10.9"
  }
 },
 "nbformat": 4,
 "nbformat_minor": 5
}
